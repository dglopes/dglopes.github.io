{
  "nbformat": 4,
  "nbformat_minor": 0,
  "metadata": {
    "colab": {
      "name": "Projeto PO450",
      "version": "0.3.2",
      "provenance": [],
      "collapsed_sections": [
        "7YcerjymMySb",
        "0rKxBR8eEgjW",
        "faRn4bELGXpT",
        "O2Itv5RXhUk6",
        "TkickFaSfR2m",
        "kPxAM1Z64taL",
        "vs0cw3de05zW",
        "uhofCiQO05yU",
        "8DGlz_4hnb8n",
        "YYD9M4NNtAkE",
        "GWFYXOy5C2f2",
        "dYEilIgNL6T1"
      ]
    },
    "kernelspec": {
      "name": "python3",
      "display_name": "Python 3"
    }
  },
  "cells": [
    {
      "cell_type": "markdown",
      "metadata": {
        "id": "7YcerjymMySb",
        "colab_type": "text"
      },
      "source": [
        "PO450 - Trabalho final. Douglas L Souza"
      ]
    },
    {
      "cell_type": "markdown",
      "metadata": {
        "id": "Jzz6u7l75pzk",
        "colab_type": "text"
      },
      "source": [
        "##DADOS"
      ]
    },
    {
      "cell_type": "code",
      "metadata": {
        "id": "pO7hlDlf51JX",
        "colab_type": "code",
        "colab": {}
      },
      "source": [
        "import random\n",
        "\n",
        "import numpy as np\n",
        "from numpy.linalg import inv\n",
        "\n",
        "import matplotlib.pyplot as plt\n",
        "from mpl_toolkits.mplot3d import Axes3D\n",
        "\n",
        "import pandas as pd\n",
        "\n",
        "import seaborn as sns\n",
        "import seaborn as sns; sns.set(style=\"ticks\", color_codes=True)\n",
        "\n",
        "from sklearn.decomposition import PCA\n",
        "from sklearn import linear_model, model_selection, datasets\n",
        "from sklearn import metrics\n",
        "from sklearn.preprocessing import StandardScaler\n",
        "from sklearn.model_selection import train_test_split\n",
        "from sklearn.metrics import accuracy_score\n",
        "from sklearn.linear_model import LogisticRegression\n",
        "from sklearn.metrics import mean_squared_error\n",
        "\n",
        "\n",
        "\n",
        "from scipy.special import expit\n",
        "\n",
        "%matplotlib inline\n",
        "#%config InlineBackend.figure_format='svg'"
      ],
      "execution_count": 0,
      "outputs": []
    },
    {
      "cell_type": "code",
      "metadata": {
        "id": "v5ichXwu5yxv",
        "colab_type": "code",
        "colab": {}
      },
      "source": [
        "url = 'https://github.com/dglopes/dglopes.github.io/raw/master/APO_csv8.csv'\n",
        "#url = 'https://github.com/dglopes/dglopes.github.io/raw/master/APO_csv7.csv' #ANTIGA PLANILHA USADA PARA CRIAR OS CÓDIGOS.\n",
        "\n",
        "colunas = ['Conjunto','Quadra', 'Bloco','Andar', 'Orientacao', 'Anos_resid', 'Idade', 'Sexo',\n",
        "           'Escol', 'Npessoas', 'NCriancas', 'NAdultos', 'PD', 'Deficiencia','Satisf_barulhoQ',\n",
        "           'Sensacao_barulho', 'Barulho_principal', 'Barulho_principal_noite', 'Satisf_tempQ',\n",
        "           'Sensacao_temp', 'Satisf_locomov', 'Transp_princip', 'Satisfacao_acess', 'Satisf_usoacess',\n",
        "           'Satisf_materiais', 'Reformado', 'Satisf_agua', 'Opiniao_agua', 'Valor_conta', 'Imp_vent',\n",
        "           'Imp_silen','Imp_conta', 'Imp_mat',\t'Imp_acess']\n",
        "\n",
        "dados = pd.read_csv(url, names= colunas, header=1)\n",
        "#dados.head(10)"
      ],
      "execution_count": 0,
      "outputs": []
    },
    {
      "cell_type": "markdown",
      "metadata": {
        "id": "ArOXe_0eSncR",
        "colab_type": "text"
      },
      "source": [
        "SELEÇÃO DOS DADOS:"
      ]
    },
    {
      "cell_type": "code",
      "metadata": {
        "id": "6sk7O4AcQQ1o",
        "colab_type": "code",
        "colab": {}
      },
      "source": [
        "A = dados['Valor_conta'] #usualmente será atributo\n",
        "R = dados['Opiniao_agua'] #Nas classificações será Rótulo, convertido para binário com get_dummies"
      ],
      "execution_count": 0,
      "outputs": []
    },
    {
      "cell_type": "markdown",
      "metadata": {
        "id": "0rKxBR8eEgjW",
        "colab_type": "text"
      },
      "source": [
        "## Análise inicial do dataset"
      ]
    },
    {
      "cell_type": "code",
      "metadata": {
        "id": "UuU3zNgL25Jy",
        "colab_type": "code",
        "colab": {}
      },
      "source": [
        "shape = dados.shape\n",
        "print(\"Exibindo dados da amostra\")\n",
        "print(\"Quantidade de linhas = \",shape[0])\n",
        "print(\"Quantidade de colunas = \",shape[1])\n",
        "\n",
        "print(\"\\n\")\n",
        "print(\"Resumo estatístico dos dados\")\n",
        "print(dados.describe())"
      ],
      "execution_count": 0,
      "outputs": []
    },
    {
      "cell_type": "code",
      "metadata": {
        "id": "njOrNJ5_6QEC",
        "colab_type": "code",
        "colab": {}
      },
      "source": [
        "print(\"\\n\")\n",
        "print(\"Graficando os dados\")\n",
        "\n",
        "dados.hist(figsize=(15,10))\n",
        "plt.tight_layout()\n",
        "plt.show()"
      ],
      "execution_count": 0,
      "outputs": []
    },
    {
      "cell_type": "code",
      "metadata": {
        "id": "l2YTrpHvgWqE",
        "colab_type": "code",
        "colab": {}
      },
      "source": [
        "print(\"\\n\")\n",
        "print(\"Graficando os dados em 2d\")\n",
        "plt.figure(1)\n",
        "plt.scatter(A, R)\n",
        "#plt.bar(A, R)\n",
        "\n",
        "plt.xlabel('1o Atrib')\n",
        "plt.ylabel('2o Atrib')\n",
        "plt.title('GRAFICO')\n",
        "plt.tight_layout()\n",
        "plt.show()"
      ],
      "execution_count": 0,
      "outputs": []
    },
    {
      "cell_type": "markdown",
      "metadata": {
        "id": "faRn4bELGXpT",
        "colab_type": "text"
      },
      "source": [
        "### Seaborn pairplot"
      ]
    },
    {
      "cell_type": "code",
      "metadata": {
        "id": "JITWcb_ABAEl",
        "colab_type": "code",
        "colab": {}
      },
      "source": [
        "df_g = pd.read_csv(url)\n",
        " \n",
        "# Basic correlogram\n",
        "sns.pairplot(df_g)\n",
        "plt.show()\n"
      ],
      "execution_count": 0,
      "outputs": []
    },
    {
      "cell_type": "markdown",
      "metadata": {
        "id": "O2Itv5RXhUk6",
        "colab_type": "text"
      },
      "source": [
        "###Análise de Correlação"
      ]
    },
    {
      "cell_type": "code",
      "metadata": {
        "id": "-6vCKBF0ykwL",
        "colab_type": "code",
        "colab": {}
      },
      "source": [
        "#Normalizacao\n",
        "from sklearn.preprocessing import StandardScaler\n",
        "dados_std = dados.values\n",
        "dados_std = StandardScaler().fit_transform(dados_std)\n",
        "pd.DataFrame(data = dados_std, columns = colunas).head()"
      ],
      "execution_count": 0,
      "outputs": []
    },
    {
      "cell_type": "code",
      "metadata": {
        "id": "8axfZeD9kfDk",
        "colab_type": "code",
        "colab": {}
      },
      "source": [
        "#para cada atributo, analisar sua correlação com outro atributo. Vizualizar com mapa de calor - heatmap.\n",
        "correlation_matrix = dados.corr()\n",
        "#correlation_matrix = dados_norma.corr()\n",
        "\n",
        "plt.figure(figsize=(20,25))\n",
        "ax = sns.heatmap(correlation_matrix, vmax=1, square=True, annot=True,fmt='.2f', cmap ='coolwarm', cbar_kws={\"shrink\": .5}, robust=True)\n",
        "\n",
        "plt.title('Matriz de Correlação entre os atributos', fontsize=20)\n",
        "plt.xlabel('Numero de Clusters')\n",
        "plt.ylabel('Distância média entre os pontos de dados e o centróide de seu cluster')\n",
        "plt.show()"
      ],
      "execution_count": 0,
      "outputs": []
    },
    {
      "cell_type": "markdown",
      "metadata": {
        "colab_type": "text",
        "id": "flI98RxT050W"
      },
      "source": [
        "##>>> PREPARAÇÃO DOS DADOS"
      ]
    },
    {
      "cell_type": "markdown",
      "metadata": {
        "id": "TkickFaSfR2m",
        "colab_type": "text"
      },
      "source": [
        "### Normalização"
      ]
    },
    {
      "cell_type": "code",
      "metadata": {
        "id": "oNH746atbwu9",
        "colab_type": "code",
        "colab": {}
      },
      "source": [
        "#Normalizacao\n",
        "from sklearn.preprocessing import StandardScaler\n",
        "dados_norma = dados.iloc[:,:].values\n",
        "dados_norma = StandardScaler().fit_transform(dados_norma)\n",
        "dados_norma2 = pd.DataFrame(data = dados_norma, columns = colunas).head(10)\n",
        "dados_norma2.fillna(0)"
      ],
      "execution_count": 0,
      "outputs": []
    },
    {
      "cell_type": "code",
      "metadata": {
        "id": "AH4w6Ji0HAS-",
        "colab_type": "code",
        "colab": {}
      },
      "source": [
        "#np.any(np.isnan(dados_norma2))\n",
        "#np.all(np.isfinite(dados_norma))\n",
        "#np.where(~np.isnan(dados_norma), dados_norma, 0)\n",
        "#new_df = pd.DataFrame(StandardScaler().fit_transform(df), columns=df.columns, index=df.index)"
      ],
      "execution_count": 0,
      "outputs": []
    },
    {
      "cell_type": "code",
      "metadata": {
        "id": "vw2HbZnAvkyK",
        "colab_type": "code",
        "colab": {}
      },
      "source": [
        "plt.scatter(dados_norma[3], dados_norma[20], c='r', marker = '.')\n",
        "plt.scatter(dados_norma[3], dados_norma[9], c='k', marker = '.')\n",
        "plt.scatter(dados_norma[3], dados_norma[33], c='y', marker = '.')\n",
        "plt.scatter(dados_norma[3], dados_norma[30], c='b', marker = '.')\n",
        "plt.scatter(dados_norma[3], dados_norma[6], c='g', marker = '.')\n",
        "plt.xlabel('ANDAR')\n",
        "plt.ylabel('y')\n",
        "plt.title('GRAFICO')\n",
        "\n",
        "plt.show()"
      ],
      "execution_count": 0,
      "outputs": []
    },
    {
      "cell_type": "markdown",
      "metadata": {
        "colab_type": "text",
        "id": "kPxAM1Z64taL"
      },
      "source": [
        "###PCA"
      ]
    },
    {
      "cell_type": "code",
      "metadata": {
        "colab_type": "code",
        "id": "mYY0w1AL4tZk",
        "colab": {}
      },
      "source": [
        "pca = PCA(n_components=14)\n",
        "principalComponents = pca.fit_transform(dados_norma2)\n",
        "principalDf = pd.DataFrame(data = principalComponents, columns = ['PC1', 'PC2', 'PC3', 'PC4', 'PC5', 'PC6', 'PC7', 'PC8', 'PC9', 'PC10', 'PC11', 'PC12', 'PC13', 'PC14'])\n",
        "print(pca.explained_variance_ratio_)\n",
        "principalDf.head(8)\n"
      ],
      "execution_count": 0,
      "outputs": []
    },
    {
      "cell_type": "code",
      "metadata": {
        "colab_type": "code",
        "id": "vbC0mET84tZL",
        "colab": {}
      },
      "source": [
        "print(\"\\n\")\n",
        "print(\"Graficando os dados em 2d\")\n",
        "plt.figure(1)\n",
        "plt.scatter(principalComponents[:, 8], principalComponents[:,9])\n",
        "plt.xlabel('X')\n",
        "plt.ylabel('y')\n",
        "plt.title('GRAFICO')\n",
        "plt.tight_layout()\n",
        "plt.show()"
      ],
      "execution_count": 0,
      "outputs": []
    },
    {
      "cell_type": "markdown",
      "metadata": {
        "id": "qcV58a63BLHa",
        "colab_type": "text"
      },
      "source": [
        "##>>> TESTE DE REGRESSÕES"
      ]
    },
    {
      "cell_type": "markdown",
      "metadata": {
        "colab_type": "text",
        "id": "vs0cw3de05zW"
      },
      "source": [
        "###Regressão com onehotencoder <<< PROBLEMAS"
      ]
    },
    {
      "cell_type": "code",
      "metadata": {
        "colab_type": "code",
        "id": "9wF4T4NT05zS",
        "colab": {}
      },
      "source": [
        "S1 = pd.get_dummies(A)\n",
        "dfx = pd.concat([S1,R], axis = 1)\n",
        "dfx.head(20)"
      ],
      "execution_count": 0,
      "outputs": []
    },
    {
      "cell_type": "code",
      "metadata": {
        "colab_type": "code",
        "id": "kJEKtWKR05zP",
        "colab": {}
      },
      "source": [
        "from sklearn.linear_model import LinearRegression\n",
        "model = LinearRegression()"
      ],
      "execution_count": 0,
      "outputs": []
    },
    {
      "cell_type": "code",
      "metadata": {
        "colab_type": "code",
        "id": "Xb9EsZRa05zK",
        "colab": {}
      },
      "source": [
        "X = dfx.drop('Satisf_usoacess', axis=1)\n",
        "y = dfx.Satisf_usoacess"
      ],
      "execution_count": 0,
      "outputs": []
    },
    {
      "cell_type": "code",
      "metadata": {
        "colab_type": "code",
        "id": "TsdqGHOJ05zC",
        "colab": {}
      },
      "source": [
        "model.fit(X,y)"
      ],
      "execution_count": 0,
      "outputs": []
    },
    {
      "cell_type": "code",
      "metadata": {
        "colab_type": "code",
        "id": "qJs-zPN-05y5",
        "colab": {}
      },
      "source": [
        "model.predict([[4,0,0,0,1,0]])"
      ],
      "execution_count": 0,
      "outputs": []
    },
    {
      "cell_type": "code",
      "metadata": {
        "id": "FdvS0rYqqZ-Z",
        "colab_type": "code",
        "colab": {
          "base_uri": "https://localhost:8080/",
          "height": 34
        },
        "outputId": "83099ab9-24ce-4506-f56c-bc2f07626773"
      },
      "source": [
        "def mse(y_true, y_pred):\n",
        "  return pow(y_true - y_pred, 2).sum()/len(y_true)\n",
        "\n",
        "mse()"
      ],
      "execution_count": 86,
      "outputs": [
        {
          "output_type": "execute_result",
          "data": {
            "text/plain": [
              "<function __main__.mse>"
            ]
          },
          "metadata": {
            "tags": []
          },
          "execution_count": 86
        }
      ]
    },
    {
      "cell_type": "markdown",
      "metadata": {
        "colab_type": "text",
        "id": "uhofCiQO05yU"
      },
      "source": [
        "### REGRESSÃO na marra"
      ]
    },
    {
      "cell_type": "code",
      "metadata": {
        "colab_type": "code",
        "id": "OAqcYCM805yK",
        "colab": {}
      },
      "source": [
        "X = np.array(A)\n",
        "X = X.reshape(-1,1)\n",
        "y = np.array(R)\n",
        "x_tr, x_te, y_tr, y_te = model_selection.train_test_split(X, y, test_size = 0.1, random_state = 1)"
      ],
      "execution_count": 0,
      "outputs": []
    },
    {
      "cell_type": "code",
      "metadata": {
        "colab_type": "code",
        "id": "Z7Jw2Mf205yE",
        "colab": {}
      },
      "source": [
        "#CALCULO DO PARÂMETRO w\n",
        "#Criando a matriz aumentada-extendida Z para gerar o parâmetro w.\n",
        "\n",
        "# < P/ TREINAMENTO >\n",
        "Z_tr = np.concatenate(( np.ones((len(x_tr), 1)), np.power(x_tr,2)), axis=1) #Z de treinamento\n",
        "Z_1tr = inv(np.dot(np.transpose(Z_tr),Z_tr))\n",
        "Z_2tr = np.dot(Z_1tr,np.transpose(Z_tr))\n",
        "w_tr = np.dot(Z_2tr,y_tr)\n",
        "#Achar os valores de w que tornem a saída do modelo y_hat o mais parecida possível com a saída desejada usando o MEQ como otimizador.\n",
        "y_hat_tr = np.dot(Z_tr,w_tr)\n",
        "#print('Parâmetro de treinamento: \\n', w_tr)\n",
        "\n",
        "# < P/ TESTE >\n",
        "Z_te = np.concatenate(( np.ones((len(x_te), 1)),  np.power(x_te,2)), axis=1) #Z de teste\n",
        "Z_1te = inv(np.dot(np.transpose(Z_te),Z_te))\n",
        "Z_2te = np.dot(Z_1te,np.transpose(Z_te))\n",
        "w_te = np.dot(Z_2te,y_te)\n",
        "y_hat_te = np.dot(Z_te,w_te)\n",
        "#print('Parâmetro de teste: \\n', w_te)\n",
        "\n",
        "#CURVA DE REGRESSÂO\n",
        "plt.scatter (x_tr, y_tr, marker = \"+\", color = 'teal') #plot da amostra de treinamento\n",
        "plt.scatter (x_te, y_te, marker = \"*\", color = 'darkorange') #plot da amostra de teste\n",
        "\n",
        "#COLOQUE AQUI OS parâmetros w DE TESTE:\n",
        "x_aux = np.linspace(-1,6,100)\n",
        "x_aux.resize(100,1)\n",
        "\n",
        "Z_aux = np.concatenate(( np.ones((100, 1)), np.power(x_aux,2)), axis=1)\n",
        "y_aux = np.dot(Z_aux, w_te)\n",
        "\n",
        "#plt.title('GRÁFICO DE REGRESSÃO')\n",
        "plt.title('GRÁFICO DE REGRESSÃO')\n",
        "plt.plot(x_aux, y_aux, 'k-')\n",
        "plt.ylim(-0.5, 200.5)\n",
        "plt.xlim(-0.5, 6.5)\n",
        "\n",
        "#CALCULO DO ERRO QUADRATICO\n",
        "#TREINAMENTO\n",
        "residual = y_hat_tr - y_tr\n",
        "mse_error_tr = (np.power(residual,2).sum())/len(y_hat_tr)\n",
        "print('ERRO QM - TREINAMENTO (verde): ', mse_error_tr)\n",
        "\n",
        "#TESTE\n",
        "residual = y_hat_te - y_te\n",
        "mse_error_te = (np.power(residual,2).sum())/len(y_te)\n",
        "print('ERRO QM - TESTE (Laranja): ', mse_error_te)"
      ],
      "execution_count": 0,
      "outputs": []
    },
    {
      "cell_type": "markdown",
      "metadata": {
        "id": "GNqHQMGRBXOK",
        "colab_type": "text"
      },
      "source": [
        "## >>> TESTE DE CLASSIFICAÇÕES SUPERVISIONADAS"
      ]
    },
    {
      "cell_type": "markdown",
      "metadata": {
        "id": "8DGlz_4hnb8n",
        "colab_type": "text"
      },
      "source": [
        "###Naive Bayes - IMPORTAR DATASET!"
      ]
    },
    {
      "cell_type": "code",
      "metadata": {
        "id": "Z95Sua0UnbWM",
        "colab_type": "code",
        "colab": {}
      },
      "source": [
        "#https://www.youtube.com/watch?v=vz_xuxYS2PM\n",
        "\n",
        "from sklearn.naive_bayes import MultinomialNB\n",
        "from sklearn.naive_bayes import GaussianNB"
      ],
      "execution_count": 0,
      "outputs": []
    },
    {
      "cell_type": "code",
      "metadata": {
        "id": "wuDWJkScGLup",
        "colab_type": "code",
        "colab": {}
      },
      "source": [
        "y = pd.get_dummies(R)\n",
        "y = y[4]+y[5]\n",
        "#y = np.array(R)\n",
        "\n",
        "#X = pd.get_dummies(A)\n",
        "X = np.array(A)\n",
        "X = X.reshape(-1,1)\n",
        "\n",
        "X_train, X_test, y_train, y_test = train_test_split(X, y, test_size = 0.1, random_state=1)"
      ],
      "execution_count": 0,
      "outputs": []
    },
    {
      "cell_type": "markdown",
      "metadata": {
        "id": "jmG1GdU9Owd4",
        "colab_type": "text"
      },
      "source": [
        "Naive Bayes Multinomial"
      ]
    },
    {
      "cell_type": "code",
      "metadata": {
        "id": "-Slaf0ktE3D4",
        "colab_type": "code",
        "outputId": "b85e89f1-2cb9-441a-8859-d5c0a0c83d8e",
        "colab": {
          "base_uri": "https://localhost:8080/",
          "height": 34
        }
      },
      "source": [
        "clf = MultinomialNB() #Bernoulli se forem binárias\n",
        "clf.fit(X_train, y_train)"
      ],
      "execution_count": 199,
      "outputs": [
        {
          "output_type": "execute_result",
          "data": {
            "text/plain": [
              "MultinomialNB(alpha=1.0, class_prior=None, fit_prior=True)"
            ]
          },
          "metadata": {
            "tags": []
          },
          "execution_count": 199
        }
      ]
    },
    {
      "cell_type": "code",
      "metadata": {
        "id": "uNlmyRJ5nght",
        "colab_type": "code",
        "colab": {
          "base_uri": "https://localhost:8080/",
          "height": 374
        },
        "outputId": "3e722415-e14b-4709-d1b6-1d1dad58c766"
      },
      "source": [
        "y_pred = clf.predict(X_test)\n",
        "accuracy_score(y_test, y_pred)*100\n",
        "\n",
        "expected = X_train\n",
        "predicted = model.predict(X_train)\n",
        "print(metrics.classification_report(expected, predicted))\n",
        "print(metrics.confusion_matrix(expected, predicted))"
      ],
      "execution_count": 200,
      "outputs": [
        {
          "output_type": "error",
          "ename": "ValueError",
          "evalue": "ignored",
          "traceback": [
            "\u001b[0;31m---------------------------------------------------------------------------\u001b[0m",
            "\u001b[0;31mValueError\u001b[0m                                Traceback (most recent call last)",
            "\u001b[0;32m<ipython-input-200-48afe84bf734>\u001b[0m in \u001b[0;36m<module>\u001b[0;34m()\u001b[0m\n\u001b[1;32m      3\u001b[0m \u001b[0;34m\u001b[0m\u001b[0m\n\u001b[1;32m      4\u001b[0m \u001b[0mexpected\u001b[0m \u001b[0;34m=\u001b[0m \u001b[0mX_train\u001b[0m\u001b[0;34m\u001b[0m\u001b[0;34m\u001b[0m\u001b[0m\n\u001b[0;32m----> 5\u001b[0;31m \u001b[0mpredicted\u001b[0m \u001b[0;34m=\u001b[0m \u001b[0mmodel\u001b[0m\u001b[0;34m.\u001b[0m\u001b[0mpredict\u001b[0m\u001b[0;34m(\u001b[0m\u001b[0mX_train\u001b[0m\u001b[0;34m)\u001b[0m\u001b[0;34m\u001b[0m\u001b[0;34m\u001b[0m\u001b[0m\n\u001b[0m\u001b[1;32m      6\u001b[0m \u001b[0mprint\u001b[0m\u001b[0;34m(\u001b[0m\u001b[0mmetrics\u001b[0m\u001b[0;34m.\u001b[0m\u001b[0mclassification_report\u001b[0m\u001b[0;34m(\u001b[0m\u001b[0mexpected\u001b[0m\u001b[0;34m,\u001b[0m \u001b[0mpredicted\u001b[0m\u001b[0;34m)\u001b[0m\u001b[0;34m)\u001b[0m\u001b[0;34m\u001b[0m\u001b[0;34m\u001b[0m\u001b[0m\n\u001b[1;32m      7\u001b[0m \u001b[0mprint\u001b[0m\u001b[0;34m(\u001b[0m\u001b[0mmetrics\u001b[0m\u001b[0;34m.\u001b[0m\u001b[0mconfusion_matrix\u001b[0m\u001b[0;34m(\u001b[0m\u001b[0mexpected\u001b[0m\u001b[0;34m,\u001b[0m \u001b[0mpredicted\u001b[0m\u001b[0;34m)\u001b[0m\u001b[0;34m)\u001b[0m\u001b[0;34m\u001b[0m\u001b[0;34m\u001b[0m\u001b[0m\n",
            "\u001b[0;32m/usr/local/lib/python3.6/dist-packages/sklearn/linear_model/base.py\u001b[0m in \u001b[0;36mpredict\u001b[0;34m(self, X)\u001b[0m\n\u001b[1;32m    219\u001b[0m             \u001b[0mReturns\u001b[0m \u001b[0mpredicted\u001b[0m \u001b[0mvalues\u001b[0m\u001b[0;34m.\u001b[0m\u001b[0;34m\u001b[0m\u001b[0;34m\u001b[0m\u001b[0m\n\u001b[1;32m    220\u001b[0m         \"\"\"\n\u001b[0;32m--> 221\u001b[0;31m         \u001b[0;32mreturn\u001b[0m \u001b[0mself\u001b[0m\u001b[0;34m.\u001b[0m\u001b[0m_decision_function\u001b[0m\u001b[0;34m(\u001b[0m\u001b[0mX\u001b[0m\u001b[0;34m)\u001b[0m\u001b[0;34m\u001b[0m\u001b[0;34m\u001b[0m\u001b[0m\n\u001b[0m\u001b[1;32m    222\u001b[0m \u001b[0;34m\u001b[0m\u001b[0m\n\u001b[1;32m    223\u001b[0m     \u001b[0m_preprocess_data\u001b[0m \u001b[0;34m=\u001b[0m \u001b[0mstaticmethod\u001b[0m\u001b[0;34m(\u001b[0m\u001b[0m_preprocess_data\u001b[0m\u001b[0;34m)\u001b[0m\u001b[0;34m\u001b[0m\u001b[0;34m\u001b[0m\u001b[0m\n",
            "\u001b[0;32m/usr/local/lib/python3.6/dist-packages/sklearn/linear_model/base.py\u001b[0m in \u001b[0;36m_decision_function\u001b[0;34m(self, X)\u001b[0m\n\u001b[1;32m    204\u001b[0m         \u001b[0mX\u001b[0m \u001b[0;34m=\u001b[0m \u001b[0mcheck_array\u001b[0m\u001b[0;34m(\u001b[0m\u001b[0mX\u001b[0m\u001b[0;34m,\u001b[0m \u001b[0maccept_sparse\u001b[0m\u001b[0;34m=\u001b[0m\u001b[0;34m[\u001b[0m\u001b[0;34m'csr'\u001b[0m\u001b[0;34m,\u001b[0m \u001b[0;34m'csc'\u001b[0m\u001b[0;34m,\u001b[0m \u001b[0;34m'coo'\u001b[0m\u001b[0;34m]\u001b[0m\u001b[0;34m)\u001b[0m\u001b[0;34m\u001b[0m\u001b[0;34m\u001b[0m\u001b[0m\n\u001b[1;32m    205\u001b[0m         return safe_sparse_dot(X, self.coef_.T,\n\u001b[0;32m--> 206\u001b[0;31m                                dense_output=True) + self.intercept_\n\u001b[0m\u001b[1;32m    207\u001b[0m \u001b[0;34m\u001b[0m\u001b[0m\n\u001b[1;32m    208\u001b[0m     \u001b[0;32mdef\u001b[0m \u001b[0mpredict\u001b[0m\u001b[0;34m(\u001b[0m\u001b[0mself\u001b[0m\u001b[0;34m,\u001b[0m \u001b[0mX\u001b[0m\u001b[0;34m)\u001b[0m\u001b[0;34m:\u001b[0m\u001b[0;34m\u001b[0m\u001b[0;34m\u001b[0m\u001b[0m\n",
            "\u001b[0;32m/usr/local/lib/python3.6/dist-packages/sklearn/utils/extmath.py\u001b[0m in \u001b[0;36msafe_sparse_dot\u001b[0;34m(a, b, dense_output)\u001b[0m\n\u001b[1;32m    140\u001b[0m         \u001b[0;32mreturn\u001b[0m \u001b[0mret\u001b[0m\u001b[0;34m\u001b[0m\u001b[0;34m\u001b[0m\u001b[0m\n\u001b[1;32m    141\u001b[0m     \u001b[0;32melse\u001b[0m\u001b[0;34m:\u001b[0m\u001b[0;34m\u001b[0m\u001b[0;34m\u001b[0m\u001b[0m\n\u001b[0;32m--> 142\u001b[0;31m         \u001b[0;32mreturn\u001b[0m \u001b[0mnp\u001b[0m\u001b[0;34m.\u001b[0m\u001b[0mdot\u001b[0m\u001b[0;34m(\u001b[0m\u001b[0ma\u001b[0m\u001b[0;34m,\u001b[0m \u001b[0mb\u001b[0m\u001b[0;34m)\u001b[0m\u001b[0;34m\u001b[0m\u001b[0;34m\u001b[0m\u001b[0m\n\u001b[0m\u001b[1;32m    143\u001b[0m \u001b[0;34m\u001b[0m\u001b[0m\n\u001b[1;32m    144\u001b[0m \u001b[0;34m\u001b[0m\u001b[0m\n",
            "\u001b[0;31mValueError\u001b[0m: shapes (84,1) and (6,) not aligned: 1 (dim 1) != 6 (dim 0)"
          ]
        }
      ]
    },
    {
      "cell_type": "markdown",
      "metadata": {
        "id": "hc9UbkaguWfS",
        "colab_type": "text"
      },
      "source": [
        "Naive Bayes Gaussian"
      ]
    },
    {
      "cell_type": "code",
      "metadata": {
        "id": "XL_jxdWxuZfY",
        "colab_type": "code",
        "colab": {}
      },
      "source": [
        "#https://www.youtube.com/watch?v=l3dZ6ZNFjo0\n",
        "model = GaussianNB()\n",
        "model.fit (X_train, y_train)\n",
        "\n",
        "y_pred = model.predict(X_test)\n",
        "accuracy_score(y_test, y_pred)*100\n",
        "\n",
        "expected = X_train\n",
        "predicted = model.predict(X_train)\n",
        "print(metrics.classification_report(expected, predicted))\n",
        "print(metrics.confusion_matrix(expected, predicted))"
      ],
      "execution_count": 0,
      "outputs": []
    },
    {
      "cell_type": "markdown",
      "metadata": {
        "id": "dtEkMNnnf4DE",
        "colab_type": "text"
      },
      "source": [
        "### Classificação - Regressão Logística\n",
        "\n",
        "https://matheusfacure.github.io/2017/02/25/regr-log/\n",
        "*Podemos entender regressão logística como o análogo de regressão linear para problemas de classificação. Esse tipo de problema surge quando queremos categorizar alguma variável por classes. Quando isso acontece, a variável yy que queremos prever é discreta. Um exemplo seria saber se uma pessoa ganha mais de R \\) 50000 anuais, com base nas suas informações socioeconômicas, ou saber se uma pessoa pedindo empréstimo vai pagar corretamente o que deverá.*"
      ]
    },
    {
      "cell_type": "markdown",
      "metadata": {
        "id": "YYD9M4NNtAkE",
        "colab_type": "text"
      },
      "source": [
        "### > Regressão Logistica - Funcionando!!!"
      ]
    },
    {
      "cell_type": "code",
      "metadata": {
        "id": "7slfEUHt2VZ6",
        "colab_type": "code",
        "colab": {}
      },
      "source": [
        "#para dados binarios - onehotencoding\n",
        "Y = pd.get_dummies(R)\n",
        "Y = Y[4]+Y[5] # Conferir se existem 6 colunas no atributo"
      ],
      "execution_count": 0,
      "outputs": []
    },
    {
      "cell_type": "code",
      "metadata": {
        "id": "amtLW9tfshnU",
        "colab_type": "code",
        "colab": {}
      },
      "source": [
        "#https://www.youtube.com/watch?v=VCJdg7YBbAQ\n",
        "X = A.values\n",
        "X = X.reshape(-1,1)\n",
        "y = Y.values"
      ],
      "execution_count": 0,
      "outputs": []
    },
    {
      "cell_type": "code",
      "metadata": {
        "id": "49V4mVZz37fl",
        "colab_type": "code",
        "colab": {}
      },
      "source": [
        "X_train, X_test, y_train, y_test = train_test_split(X, y, test_size = 0.1, random_state=1)"
      ],
      "execution_count": 0,
      "outputs": []
    },
    {
      "cell_type": "code",
      "metadata": {
        "id": "4lr1Pyso43gj",
        "colab_type": "code",
        "colab": {}
      },
      "source": [
        "sc = StandardScaler()\n",
        "X_train = sc.fit_transform(X_train)\n",
        "X_test = sc.transform(X_test)\n",
        "\n",
        "clf = LogisticRegression(max_iter=10000, random_state=0)\n",
        "clf.fit(X_train, y_train)"
      ],
      "execution_count": 0,
      "outputs": []
    },
    {
      "cell_type": "code",
      "metadata": {
        "id": "_9EP8fsz6Cs1",
        "colab_type": "code",
        "outputId": "10b0c6c4-e74b-4b6b-a504-000798bd642a",
        "colab": {
          "base_uri": "https://localhost:8080/",
          "height": 34
        }
      },
      "source": [
        "y_pred = clf.predict(X_test)\n",
        "accuracy_score(y_test, y_pred)*100\n",
        "#print('Variance score: %.2f' % r2_score(y_test, y_pred))"
      ],
      "execution_count": 325,
      "outputs": [
        {
          "output_type": "execute_result",
          "data": {
            "text/plain": [
              "60.0"
            ]
          },
          "metadata": {
            "tags": []
          },
          "execution_count": 325
        }
      ]
    },
    {
      "cell_type": "markdown",
      "metadata": {
        "colab_type": "text",
        "id": "GWFYXOy5C2f2"
      },
      "source": [
        "### Classificação na marra\n"
      ]
    },
    {
      "cell_type": "code",
      "metadata": {
        "id": "pT-oEPTSDX0P",
        "colab_type": "code",
        "colab": {}
      },
      "source": [
        "#para dados binarios - onehotencoding\n",
        "Yr = pd.get_dummies(R)\n",
        "Yr = Yr[4]+Yr[5]\n",
        "Yr[Yr==0] = [-1]"
      ],
      "execution_count": 0,
      "outputs": []
    },
    {
      "cell_type": "code",
      "metadata": {
        "colab_type": "code",
        "id": "UlNF0VBDC2f4",
        "colab": {}
      },
      "source": [
        "#Entrada dos dados:\n",
        "atr2 = np.random.randint(1,6, len(dados)) #ainda a ser colocado na planilha, então usei um random para simular.\n",
        "atr2= atr2.T\n",
        "\n",
        "x1_tr = A #Atributo 1\n",
        "x2_tr = R #Atribuito 2\n",
        "d_tr = Yr"
      ],
      "execution_count": 0,
      "outputs": []
    },
    {
      "cell_type": "code",
      "metadata": {
        "colab_type": "code",
        "id": "tmYL0kckC2f9",
        "colab": {}
      },
      "source": [
        "# Plotagem para visualizar os dados crus\n",
        "positive_x1_tr = []\n",
        "positive_x2_tr = []\n",
        "negative_x1_tr = []\n",
        "negative_x2_tr = []\n",
        "\n",
        "for i in range(0, len(x1_tr)):\n",
        "  if d_tr[i] == 1: #Alterar aqui caso o rótulo seja diferente de -1 e 1\n",
        "    positive_x1_tr.append(x1_tr[i])\n",
        "    positive_x2_tr.append(x2_tr[i])\n",
        "  else:\n",
        "    negative_x1_tr.append(x1_tr[i])\n",
        "    negative_x2_tr.append(x2_tr[i])\n",
        "\n",
        "plt.scatter(positive_x1_tr, positive_x2_tr, color = 'darkorange', marker = '*') #Criando o gráfico\n",
        "plt.scatter(negative_x1_tr, negative_x2_tr, color = 'teal', marker = '+') #Criando o gráfico\n",
        "plt.title('Amostra dos dados') #adicionando o título\n",
        "plt.xlabel('Atributo 1')\n",
        "plt.ylabel('Atributo 2')\n",
        "\n",
        "plt.ylim(-0.5, 5.5)\n",
        "plt.xlim(-5.5, 260)\n",
        "plt.show()\n"
      ],
      "execution_count": 0,
      "outputs": []
    },
    {
      "cell_type": "code",
      "metadata": {
        "colab_type": "code",
        "id": "lmKAswb7C2gC",
        "colab": {}
      },
      "source": [
        "#-------------- CALCULO DO w -----------------------------------------\n",
        "#Criando a matriz aumentada-extendida X para gerar o parâmetro w.\n",
        "X_tr = np.concatenate(( np.ones((len(x1_tr),1)), x1_tr[:,None], x2_tr[:,None]), axis=1)\n",
        "X_1tr = inv (np.dot (np.transpose(X_tr), X_tr))\n",
        "X_2tr = np.dot (X_1tr, np.transpose(X_tr))\n",
        "w_tr = np.dot (X_2tr, d_tr) #aqui, diferente da regressão, multiplicamos pelo vetor de atributos ou classes \"d_tr\"\n",
        "yhat_tr = np.dot (X_tr, w_tr) #Vetor 1 coluna, 500 itens #o hiperplano não tem que ser b + xTw = 0\n",
        "\n",
        "print ('Parâmetro de treinamento: \\n', w_tr)"
      ],
      "execution_count": 0,
      "outputs": []
    },
    {
      "cell_type": "code",
      "metadata": {
        "colab_type": "code",
        "id": "2C4elAPjC2gF",
        "colab": {}
      },
      "source": [
        "'''\n",
        "CLASSIFICAÇÃO e MATRIZ DE CONFUSÃO\n",
        "Matriz de Confusão para o Treinamento. Comparando com a Classe fornecida pelo Dataset.\n",
        "TP - TruePositive, FP: FalsePositive, TN: TrueNegative, FN: FalseNegative\n",
        "'''\n",
        "#DECISÃO - Função discriminante\n",
        "classe1 = np.array([])\n",
        "classe2 = np.array([])\n",
        "E = 0\n",
        "for i in yhat_tr:\n",
        "  if i < E:\n",
        "    classe1 = np.append(classe1, [i]) #insere um vetor dentro da matriz, é correto esse entendimento?\n",
        "  else:\n",
        "    classe2 = np.append(classe2, [i])\n",
        "\n",
        "print('nº de itens - Classe 1: ', len(classe1))\n",
        "print('nº de itens - Classe 2: ', len(classe2))\n",
        "\n",
        "\n",
        "vTPR = [] #crio as variáveis que receberão valores no loop abaixo.\n",
        "vFPR = []\n",
        "for p in range(-10, 11, 1):\n",
        "    E = round (p * 0.1, 1) # cria a constante, E = Epsilon, que recebe valores de uma série. Ñ consegui decimais, então fiz a conversão. E varia de -1 a 1\n",
        "    print('iteração = ',p)\n",
        "    print('E = ', E)\n",
        "    \n",
        "    d_hat = [] #Criando o vetor d_hat que inicia o classificador: compara o valor de E com os valores do vetor yhat_tr gerado pelo modelo. \n",
        "\n",
        "    for i in range(0, len(yhat_tr)):\n",
        "      if yhat_tr[i] > E:\n",
        "        d_hat.append( 1)\n",
        "\n",
        "      if yhat_tr[i] < E:\n",
        "        d_hat.append(-1)\n",
        "    print('d_hat =', d_hat[:20], '...')\n",
        "    \n",
        "    TP, FP, TN, FN = 0,0,0,0\n",
        "    for i, a in zip(d_hat, d_tr):\n",
        "\n",
        "        if i == 1 and a == 1:\n",
        "          TP += 1\n",
        "        if i == 1 and a == -1:\n",
        "          FP += 1\n",
        "        if i == -1 and a == -1:\n",
        "          TN += 1\n",
        "        if i == -1 and a == 1:\n",
        "          FN += 1  \n",
        "    \n",
        "    print('Quantidade de casos: ', TP, FP, TN, FN)\n",
        "    \n",
        "    TPR = round((TP / (TP + FN)) , 2)\n",
        "    FPR = round((FP / (FP + TN)) , 2)\n",
        "    print('TPR:', TPR, '\\nFPR:', FPR)\n",
        "    \n",
        "    vTPR = np.append(vTPR, TPR) #crio estes vetores para plotar no gráfico.\n",
        "    vFPR = np.append(vFPR, FPR)\n",
        "    print ('Vetor vTPR = ', vTPR, '\\nVetor vFPR = ', vFPR)\n",
        "    \n",
        "    accuracy_tr = (TP + TN) / (TP + FP + TN + FN)\n",
        "    print('Acc = ', accuracy_tr)\n",
        "    \n",
        "    TP, FP, TN, FN = 0,0,0,0 # zero estes valores para novo loop\n",
        "    print()"
      ],
      "execution_count": 0,
      "outputs": []
    },
    {
      "cell_type": "code",
      "metadata": {
        "colab_type": "code",
        "id": "JOS4nHrcC2gI",
        "colab": {}
      },
      "source": [
        "plt.rcParams['figure.figsize'] = (8,6)\n",
        "\n",
        "#para criar a reta de fronteira dada pela fórmula y = w0 + w1x1+ w2x2\n",
        "x1_aux = np.linspace(-2, 2, 500) #ajustar aqui para reta maior.\n",
        "x1_aux.resize(500,1)\n",
        "#x1_aux1 = np.resize(x1_aux,len(yhat_tr))\n",
        "x2a = -(w_tr[0] / w_tr[2]) # a ideia aqui é calcular x2 : ( w0 + w1x1 + w2x2 ) = 0. Isolar x2 como variável colocando x2 = -(w_tr[0] / w_tr[2]) - ((w_tr[1] x1) / w_tr[2])\n",
        "x2b = -(w_tr[1]/w_tr[2])\n",
        "x2_aux = x2b * x1_aux\n",
        "#gráfico 2d\n",
        "plt.plot(x2_aux, x1_aux, 'k-')\n",
        "plt.plot(positive_x1_tr, positive_x2_tr, 'c+')\n",
        "plt.plot(negative_x1_tr, negative_x2_tr, 'r.')\n",
        "plt.title('Amostra dos dados')\n",
        "plt.xlabel('Atributo 1')\n",
        "plt.ylabel('Atributo 2')\n",
        "\n",
        "plt.ylim(-0.5, 5.5)\n",
        "plt.xlim(-3.5, 360)\n",
        "plt.show()\n"
      ],
      "execution_count": 0,
      "outputs": []
    },
    {
      "cell_type": "code",
      "metadata": {
        "colab_type": "code",
        "id": "zSohtpevC2gN",
        "colab": {
          "base_uri": "https://localhost:8080/",
          "height": 410
        },
        "outputId": "0d894ac7-d795-4129-b486-9747a81f3500"
      },
      "source": [
        "#Curva ROC\n",
        "plt.plot( vFPR, vTPR , color='teal', linestyle = '-')\n",
        "plt.plot( vFPR, vTPR , 'k.')\n",
        "\n",
        "plt.title (\"Curva ROC FPR x TPR\")\n",
        "plt.grid (linestyle = ':', color = 'lightgray', linewidth=1)\n",
        "plt.xlabel (\"False Positive (FPR)\")\n",
        "plt.ylabel (\"True Positive (TPR) \")\n",
        "plt.show()"
      ],
      "execution_count": 311,
      "outputs": [
        {
          "output_type": "display_data",
          "data": {
            "image/png": "[encoded data removed]",
            "text/plain": [
              "<Figure size 576x432 with 1 Axes>"
            ]
          },
          "metadata": {
            "tags": []
          }
        }
      ]
    },
    {
      "cell_type": "markdown",
      "metadata": {
        "id": "dYEilIgNL6T1",
        "colab_type": "text"
      },
      "source": [
        "###SVM"
      ]
    },
    {
      "cell_type": "code",
      "metadata": {
        "id": "DtY1oEGsLSYP",
        "colab_type": "code",
        "colab": {
          "base_uri": "https://localhost:8080/",
          "height": 102
        },
        "outputId": "927ae620-8b90-4f90-db47-58627097dc6e"
      },
      "source": [
        "from sklearn import svm, datasets\n",
        "Y = pd.get_dummies(R)\n",
        "Y = Y[4]+Y[5] # Conferir se existem 6 colunas no atributo\n",
        "\n",
        "X = A.values\n",
        "X = X.reshape(-1,1)\n",
        "y = Y.values\n",
        "\n",
        "X_train, X_test, y_train, y_test = train_test_split(X, y, test_size = 0.1, random_state=1)\n",
        "\n",
        "\n",
        "#create the  Support Vector Classifier\n",
        "clf = svm.SVC(gamma = 0.001, C = 100)\n",
        "\n",
        "\n",
        "#train model\n",
        "clf.fit(X_train, y_train)\n",
        "\n",
        "#predict\n",
        "y_pred = clf.predict(X_test)\n",
        "y_true = y\n",
        "\n",
        "print(y_pred)\n",
        "print(y_true)\n",
        "accuracy_score(y_test, y_pred)*100"
      ],
      "execution_count": 316,
      "outputs": [
        {
          "output_type": "stream",
          "text": [
            "[1 1 1 1 1 1 1 0 1 1]\n",
            "[1 0 1 1 0 0 1 0 1 1 1 1 1 0 1 1 1 0 1 1 1 1 1 1 1 0 1 1 1 1 0 0 1 0 0 1 1\n",
            " 1 0 0 0 1 0 1 0 1 0 1 1 0 0 0 0 1 0 1 1 1 1 0 0 1 1 0 1 1 1 1 1 1 1 1 1 1\n",
            " 0 0 1 1 1 1 1 1 1 1 0 1 1 1 1 1 1 1 1 0]\n"
          ],
          "name": "stdout"
        },
        {
          "output_type": "execute_result",
          "data": {
            "text/plain": [
              "70.0"
            ]
          },
          "metadata": {
            "tags": []
          },
          "execution_count": 316
        }
      ]
    },
    {
      "cell_type": "markdown",
      "metadata": {
        "id": "JGvd8GLTsyvQ",
        "colab_type": "text"
      },
      "source": [
        "##CLUSTERIZAÇÃO . K-means\n"
      ]
    },
    {
      "cell_type": "code",
      "metadata": {
        "id": "mETecs3bggTA",
        "colab_type": "code",
        "colab": {}
      },
      "source": [
        "from sklearn.cluster import KMeans \n",
        "from sklearn.datasets.samples_generator import make_blobs"
      ],
      "execution_count": 0,
      "outputs": []
    },
    {
      "cell_type": "markdown",
      "metadata": {
        "id": "6azCyyHPO1h_",
        "colab_type": "text"
      },
      "source": [
        "Normalização - obrigatoria"
      ]
    },
    {
      "cell_type": "code",
      "metadata": {
        "id": "VsXEEeMuO1MX",
        "colab_type": "code",
        "colab": {}
      },
      "source": [
        "#Normalizacao\n",
        "from sklearn.preprocessing import StandardScaler\n",
        "dados_norma = dados.iloc[:,:].values\n",
        "dados_norma = StandardScaler().fit_transform(dados_norma)\n",
        "dados_norma = pd.DataFrame(data = dados_norma, columns = colunas)\n",
        "dados_norma.head()"
      ],
      "execution_count": 0,
      "outputs": []
    },
    {
      "cell_type": "markdown",
      "metadata": {
        "id": "NZC57kfZOWSC",
        "colab_type": "text"
      },
      "source": [
        "###Preparação dos dados via PCA"
      ]
    },
    {
      "cell_type": "code",
      "metadata": {
        "id": "Fh_SzzVhOVee",
        "colab_type": "code",
        "colab": {}
      },
      "source": [
        "#TUDO\n",
        "pca = PCA(n_components=17)\n",
        "principalComponents = pca.fit_transform(dados_norma)\n",
        "PC_tudo = pd.DataFrame(data = principalComponents, columns = ['PC1', 'PC2', 'PC3', 'PC4', 'PC5', 'PC6', 'PC7', 'PC8', 'PC9', 'PC10', 'PC11', 'PC12', 'PC13', 'PC14', 'PC15', 'PC16', 'PC17'])\n",
        "print(pca.explained_variance_ratio_)"
      ],
      "execution_count": 0,
      "outputs": []
    },
    {
      "cell_type": "code",
      "metadata": {
        "id": "YkjqX5AYSomx",
        "colab_type": "code",
        "colab": {}
      },
      "source": [
        "#PC2 = Morador = 93%\n",
        "pca = PCA(n_components=7)\n",
        "PC2 = dados_norma.iloc[:,5:14]\n",
        "principalComponents = pca.fit_transform(PC2)\n",
        "PC2 = pd.DataFrame(data = principalComponents, columns = ['PC1', 'PC2', 'PC3', 'PC4', 'PC5', 'PC6', 'PC7'])\n",
        "print(pca.explained_variance_ratio_)"
      ],
      "execution_count": 0,
      "outputs": []
    },
    {
      "cell_type": "code",
      "metadata": {
        "id": "0rUzNE-pXb5s",
        "colab_type": "code",
        "colab": {}
      },
      "source": [
        "#PC3 = Localizacao = 90%\n",
        "pca = PCA(n_components=4)\n",
        "PC3 = dados_norma.iloc[:,0:5]\n",
        "principalComponents = pca.fit_transform(PC3)\n",
        "PC3 = pd.DataFrame(data = principalComponents, columns = ['PC1', 'PC2', 'PC3','PC4'])\n",
        "print(pca.explained_variance_ratio_)"
      ],
      "execution_count": 0,
      "outputs": []
    },
    {
      "cell_type": "code",
      "metadata": {
        "id": "WkIhhAQLXvOw",
        "colab_type": "code",
        "colab": {}
      },
      "source": [
        "#PC4 = Acustica = 90%\n",
        "pca = PCA(n_components=3)\n",
        "PC4 = dados_norma.iloc[:,14:18]\n",
        "principalComponents = pca.fit_transform(PC4)\n",
        "PC4 = pd.DataFrame(data = principalComponents, columns = ['PC1', 'PC2', 'PC3'])\n",
        "print(pca.explained_variance_ratio_)"
      ],
      "execution_count": 0,
      "outputs": []
    },
    {
      "cell_type": "code",
      "metadata": {
        "id": "H7kGCr47XxWv",
        "colab_type": "code",
        "colab": {}
      },
      "source": [
        "#PC5 = Temperatura = 100%\n",
        "pca = PCA(n_components=2)\n",
        "PC5 = dados_norma.iloc[:,18:20]\n",
        "principalComponents = pca.fit_transform(PC5)\n",
        "PC5 = pd.DataFrame(data = principalComponents, columns = ['PC1', 'PC2'])\n",
        "print(pca.explained_variance_ratio_)"
      ],
      "execution_count": 0,
      "outputs": []
    },
    {
      "cell_type": "code",
      "metadata": {
        "id": "NTvoGd6NX1Lc",
        "colab_type": "code",
        "colab": {}
      },
      "source": [
        "#PC6 = Acessibilidade = 90%\n",
        "pca = PCA(n_components=3)\n",
        "PC6 = dados_norma.iloc[:,20:24]\n",
        "principalComponents = pca.fit_transform(PC6)\n",
        "PC6 = pd.DataFrame(data = principalComponents, columns = ['PC1', 'PC2', 'PC3'])\n",
        "print(pca.explained_variance_ratio_)"
      ],
      "execution_count": 0,
      "outputs": []
    },
    {
      "cell_type": "code",
      "metadata": {
        "id": "SH3dE1R9X12O",
        "colab_type": "code",
        "colab": {}
      },
      "source": [
        "#PC7 = Materiais = 100%\n",
        "pca = PCA(n_components=2)\n",
        "PC7 = dados_norma.iloc[:,24:26]\n",
        "principalComponents = pca.fit_transform(PC7)\n",
        "PC7 = pd.DataFrame(data = principalComponents, columns = ['PC1', 'PC2'])\n",
        "print(pca.explained_variance_ratio_)"
      ],
      "execution_count": 0,
      "outputs": []
    },
    {
      "cell_type": "code",
      "metadata": {
        "id": "xVYTyRMeYOnf",
        "colab_type": "code",
        "colab": {}
      },
      "source": [
        "#PC8 = Consumo = 100%\n",
        "pca = PCA(n_components=3)\n",
        "PC8 = dados_norma.iloc[:,26:29]\n",
        "principalComponents = pca.fit_transform(PC8)\n",
        "PC8 = pd.DataFrame(data = principalComponents, columns = ['PC1', 'PC2', 'PC3'])\n",
        "print(pca.explained_variance_ratio_)"
      ],
      "execution_count": 0,
      "outputs": []
    },
    {
      "cell_type": "code",
      "metadata": {
        "id": "i8lozUGNbNpn",
        "colab_type": "code",
        "colab": {}
      },
      "source": [
        "PCtotal = pd.DataFrame(np.concatenate ((PC2, PC3, PC4, PC5, PC6, PC7, PC8), axis=1))"
      ],
      "execution_count": 0,
      "outputs": []
    },
    {
      "cell_type": "code",
      "metadata": {
        "id": "oLScsH7aOmod",
        "colab_type": "code",
        "colab": {}
      },
      "source": [
        "print(\"\\n\")\n",
        "print(\"Graficando os dados em 2d\")\n",
        "plt.figure(1)\n",
        "x_aux = np.linspace(-1,6,len(PC))#<<<<<<<<<<\n",
        "x_aux.resize(len(PC),1) #<<<<<<<<\n",
        "\n",
        "plt.scatter(principalComponents[:, 1], x_aux, color = 'darkorange', marker = '*')\n",
        "plt.scatter(principalComponents[:,16], x_aux,  color = 'teal', marker = '+')\n",
        "plt.xlabel('X')\n",
        "plt.ylabel('y')\n",
        "plt.title('GRAFICO')\n",
        "plt.tight_layout()\n",
        "plt.show()"
      ],
      "execution_count": 0,
      "outputs": []
    },
    {
      "cell_type": "markdown",
      "metadata": {
        "id": "E0GRihwTc5ll",
        "colab_type": "text"
      },
      "source": [
        "### AGRUPAMENTO"
      ]
    },
    {
      "cell_type": "code",
      "metadata": {
        "id": "0A1fSRUKtCFD",
        "colab_type": "code",
        "colab": {}
      },
      "source": [
        "#df = dados.iloc[:,0:29]\n",
        "df = dados_norma\n",
        "#df = PC_tudo\n",
        "#df = PC8\n",
        "#df = PCtotal\n",
        "\n",
        "#Elbow Method\n",
        "from sklearn.cluster import KMeans\n",
        "wcss = []\n",
        "\n",
        "for i in range(1,15):\n",
        "    kmeans = KMeans(n_clusters = i, init = 'random') #A cada vez que rodar, será gerado um centroide diferente, com outros gráficos\n",
        "    kmeans.fit(df)\n",
        "    print(i,kmeans.inertia_)\n",
        "    wcss.append(kmeans.inertia_)  \n",
        "plt.plot(range(1, 15), wcss)\n",
        "#plt.title('O Metodo Elbow')\n",
        "#plt.xlabel('Numero de Clusters')\n",
        "#plt.ylabel('Distância média entre os pontos de dados e o centróide de seu cluster') #within cluster sum of squares\n",
        "plt.show()"
      ],
      "execution_count": 0,
      "outputs": []
    },
    {
      "cell_type": "code",
      "metadata": {
        "id": "iKwE3A6mtNQx",
        "colab_type": "code",
        "outputId": "593eff2a-6327-49f3-ad90-771360750dd5",
        "colab": {
          "base_uri": "https://localhost:8080/",
          "height": 68
        }
      },
      "source": [
        "#modeling\n",
        "clusterNum =8\n",
        "k_means = KMeans(init = \"k-means++\", n_clusters = clusterNum, n_init = 12)\n",
        "k_means.fit(df)\n",
        "labels = k_means.labels_\n",
        "print(labels)"
      ],
      "execution_count": 632,
      "outputs": [
        {
          "output_type": "stream",
          "text": [
            "[0 6 1 5 3 6 7 4 1 4 4 4 5 3 4 1 4 5 0 4 0 0 7 2 1 7 7 7 2 0 7 4 4 6 6 0 5\n",
            " 5 6 3 3 4 6 1 6 1 3 7 0 1 4 7 3 1 7 4 4 1 1 1 6 1 1 4 1 1 5 0 1 0 5 0 5 0\n",
            " 6 6 0 5 2 0 1 2 2 2 5 0 0 0 6 5 1 7 1 6]\n"
          ],
          "name": "stdout"
        }
      ]
    },
    {
      "cell_type": "code",
      "metadata": {
        "id": "16jxAvojtOn5",
        "colab_type": "code",
        "colab": {}
      },
      "source": [
        "#assing labels to each row in dataframe\n",
        "df[\"Clus_lm\"] = labels #mudar para a variável atual.\n",
        "df.head()"
      ],
      "execution_count": 0,
      "outputs": []
    },
    {
      "cell_type": "code",
      "metadata": {
        "id": "F8-mgJtitOVQ",
        "colab_type": "code",
        "colab": {}
      },
      "source": [
        "#check centroid values by averaging the features in each cluster\n",
        "cA= df.groupby('Clus_lm').mean()\n",
        "cA.describe()"
      ],
      "execution_count": 0,
      "outputs": []
    },
    {
      "cell_type": "code",
      "metadata": {
        "id": "zrl2vjBatTUB",
        "colab_type": "code",
        "colab": {}
      },
      "source": [
        "df.groupby('Clus_lm').last()"
      ],
      "execution_count": 0,
      "outputs": []
    },
    {
      "cell_type": "code",
      "metadata": {
        "id": "k1YtQhuvtVN5",
        "colab_type": "code",
        "colab": {}
      },
      "source": [
        "#gráfico 3D\n",
        "\n",
        "from mpl_toolkits.mplot3d import Axes3D\n",
        "fig = plt.figure(1, figsize=(8, 6))\n",
        "plt.clf()\n",
        "ax = Axes3D(fig, rect=[0, 0, .95, 1], elev=15, azim=110) #Se mudar a elev e azim, consegue 'rodar' o gráfico para uma posição melhor.\n",
        "\n",
        "ax.scatter(df.iloc[:, 1], df.iloc[:, 0], df.iloc[:, 2],c= labels.astype(np.float)) "
      ],
      "execution_count": 0,
      "outputs": []
    },
    {
      "cell_type": "code",
      "metadata": {
        "id": "jrdJg9TCtU9I",
        "colab_type": "code",
        "colab": {}
      },
      "source": [
        "'''\n",
        "Visualizando os grupos\n",
        "\n",
        "'''\n",
        "#selecionando dados apenas do grupo 0\n",
        "print('<<<<<< DADOS DO GRUPO 0 >>>>> \\n', df.loc[(df['Clus_lm']) == 0], '\\n')\n",
        "print('<<<<<< DADOS DO GRUPO 1 >>>>> \\n', df.loc[(df['Clus_lm']) == 1], '\\n')\n",
        "#print('<<<<<< DADOS DO GRUPO 2 >>>>> \\n', df.loc[(df['Clus_lm']) == 2], '\\n')\n",
        "#print('<<<<<< DADOS DO GRUPO 3 >>>>> \\n', df.loc[(df['Clus_lm']) == 3], '\\n')\n",
        "#print('<<<<<< DADOS DO GRUPO 3 >>>>> \\n', df.loc[(df['Clus_lm']) == ], '\\n')"
      ],
      "execution_count": 0,
      "outputs": []
    }
  ]
}